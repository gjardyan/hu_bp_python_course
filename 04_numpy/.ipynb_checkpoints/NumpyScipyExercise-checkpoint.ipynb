{
 "cells": [
  {
   "cell_type": "markdown",
   "metadata": {},
   "source": [
    "# Exercise Numpy/Scipy"
   ]
  },
  {
   "cell_type": "markdown",
   "metadata": {},
   "source": [
    "### 1. Basics\n",
    "1. generate a 1-vector of size 10\n",
    "2. generate a zero-matrix of size 4x3\n",
    "3. generate a 3x3 identity matrix\n",
    "4. contruct a vector of length 100 with alternating ones and zeros ( hint: use slice indexing )\n",
    "5. construct a 8x8 matrix with a checkboard pattern of zeros and ones\n",
    "6. create a random vector of size 100 and sort it\n",
    "7. compute the inverse, eigenvectors and eigenvalues of the following matrix:\n",
    "$$\\mathbf{A} = \\left[\\begin{array}\n",
    "{rrr}\n",
    "1 & 2 & 3 \\\\\n",
    "4 & 5 & 6 \\\\\n",
    "7 & 8 & 9\n",
    "\\end{array}\\right]\n",
    "$$\n"
   ]
  },
  {
   "cell_type": "code",
   "execution_count": 2,
   "metadata": {
    "collapsed": false
   },
   "outputs": [],
   "source": [
    "import numpy as np\n",
    "import scipy as sp"
   ]
  },
  {
   "cell_type": "code",
   "execution_count": 57,
   "metadata": {
    "collapsed": false
   },
   "outputs": [
    {
     "data": {
      "text/plain": [
       "array([[ 0.375     , -0.25      ,  0.125     ],\n",
       "       [ 2.25      , -0.5       , -0.25      ],\n",
       "       [-1.29166667,  0.41666667,  0.125     ]])"
      ]
     },
     "execution_count": 57,
     "metadata": {},
     "output_type": "execute_result"
    }
   ],
   "source": [
    "vec = np.array(range(10))\n",
    "m = np.zeros((4,3))\n",
    "i = np.identity((3))\n",
    "\n",
    "alternate = np.ones(100)\n",
    "alternate[::2] = 0\n",
    "\n",
    "checkboard = np.ones((8,8))\n",
    "checkboard[::2,::2] = 0\n",
    "checkboard[1::2,1::2] = 0\n",
    "\n",
    "ran = np.random.random([100])\n",
    "s = np.sort(ran)\n",
    "\n",
    "A = np.array([[1,2,3],[1,5,9],[7,4,9]], int)\n",
    "inv = np.linalg.inv(A)\n",
    "inv\n",
    "\n"
   ]
  },
  {
   "cell_type": "markdown",
   "metadata": {},
   "source": [
    "### 2. Solving ordinary differential equations (ODEs) using scipy\n",
    "\n",
    "Consider the following hypothetical reaction system which was first proposed by Alfred J. Lotka (Lotka-Voltera System):\n",
    "$$ \\begin{align} \n",
    "r1:& \\;\\; X \\rightarrow 2 X \\\\ \n",
    "r2:& \\;\\; X + Y \\rightarrow 2 Y \\\\\n",
    "r3:& \\;\\; Y \\rightarrow \\varnothing \n",
    "\\end{align} $$\n",
    "\n",
    "1. set up the stoichiometric matrix of the system (this can be done without Python)\n",
    "2. the rate of change of the species participating in a reaction system can be written as\n",
    "$$ \\frac {dS} {dt} = N \\cdot v(S,p) $$\n",
    "with the vector of species concentrations $S$, the stoichiometric matrix N and the vector of reaction velocities $v(S,p)$ ($p$ denotes a vector of parmameters)\n",
    "define a function `dSdt( S, t )` which computes the rate of change for each species, given the vector of current species concentrations $S$ and the current time $t$. Assume that all reactions follow irreversible mass-action kinetics with parameters $k_1 = 1.5$, $k_2 = 0.8 $ and $k_3 = 0.9$, each equal to \n",
    "3. Use the scipy ODE integrator scipy.integrate.odeint to solve the reaction system numerically on the time interval $t \\in [0, 30]$ using the following initial conditions: $X(0)= Y(0) = 1$"
   ]
  },
  {
   "cell_type": "code",
   "execution_count": 72,
   "metadata": {
    "collapsed": false
   },
   "outputs": [
    {
     "data": {
      "text/plain": [
       "[<matplotlib.lines.Line2D at 0x7f4a09cce950>,\n",
       " <matplotlib.lines.Line2D at 0x7f4a09ccebd0>]"
      ]
     },
     "execution_count": 72,
     "metadata": {},
     "output_type": "execute_result"
    },
    {
     "data": {
      "image/png": "[encoded data removed]",
      "text/plain": [
       "<matplotlib.figure.Figure at 0x7f4a18e37810>"
      ]
     },
     "metadata": {},
     "output_type": "display_data"
    }
   ],
   "source": [
    "import scipy.integrate\n",
    "from matplotlib import pyplot as plt\n",
    "plt.style.use('ggplot')\n",
    "%matplotlib inline\n",
    "\n",
    "N = np.array([[1,-1,0],[0,1,-1]], float)\n",
    "k1 = 1.5\n",
    "k2 = 0.8\n",
    "k3 = 0.9\n",
    "S0 = np.array([1,1])\n",
    "t = np.arange(0,30,0.1)\n",
    "p = np.array([k1,k2,k3])\n",
    "\n",
    "def dSdt(S, t):\n",
    "    v = np.array([k1*S[0],k2*S[0]*S[1],k3*S[1]])\n",
    "    dS = np.dot(N, v)\n",
    "    return dS\n",
    "\n",
    "result = scipy.integrate.odeint(dSdt, S0, t)\n",
    "plt.plot(t, result)\n",
    "    \n"
   ]
  },
  {
   "cell_type": "markdown",
   "metadata": {},
   "source": [
    "### 3. Parameter fitting\n",
    "\n",
    "You have been provided with an experimenal time-course measurement of the X and Y species (pickled object `experimental_data.p`). The data has the form of a numpy array with the first column representing the experimental time (in seconds), column 2 the measurement of X (in mM) and column 3 Y.\n",
    "\n",
    "* modify the `dSdt` function from above, such that a parameter vector `p`$= [k1, k2, k3]$ can be passed in addition to `S` and `t`\n",
    "\n",
    "* define an objective function `obj_fct( p, S_exp, t_exp )` which computes the squared distance between the experimental data and a model simulation for the parameters `p`$= [k1, k2, k3]$ for the time point vector `t_exp` (assume that the initial conditions are known and as defined above), (hint: additional arguments can be passed to the function integrated by `scipy.optimize.odeint` using the `args = (p,)` argument. Dont forget the comma in the tuple!\n",
    "\n",
    "* try to identify the parameters of the reaction system using this objective function and the `sicipy.optimize.fmin` minimization algorithm. Fit only parameters k2 and k3 and keep k1 at 1.5. Use the parameters given above as starting values.\n",
    "\n",
    "* plot a simulation of t"
   ]
  },
  {
   "cell_type": "code",
   "execution_count": 2,
   "metadata": {
    "collapsed": false
   },
   "outputs": [],
   "source": [
    "import pickle\n",
    "import scipy.optimize\n",
    "\n",
    "def obj_fct(p, S_exp, t_exp):\n",
    "    \n",
    "\n"
   ]
  }
 ],
 "metadata": {
  "kernelspec": {
   "display_name": "Python 2",
   "language": "python",
   "name": "python2"
  },
  "language_info": {
   "codemirror_mode": {
    "name": "ipython",
    "version": 2
   },
   "file_extension": ".py",
   "mimetype": "text/x-python",
   "name": "python",
   "nbconvert_exporter": "python",
   "pygments_lexer": "ipython2",
   "version": "2.7.6"
  }
 },
 "nbformat": 4,
 "nbformat_minor": 0
}
